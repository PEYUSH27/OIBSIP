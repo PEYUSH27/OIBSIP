{
  "nbformat": 4,
  "nbformat_minor": 0,
  "metadata": {
    "colab": {
      "provenance": []
    },
    "kernelspec": {
      "name": "python3",
      "display_name": "Python 3"
    },
    "language_info": {
      "name": "python"
    }
  },
  "cells": [
    {
      "cell_type": "code",
      "execution_count": 2,
      "metadata": {
        "id": "US-f4NCCj1x-"
      },
      "outputs": [],
      "source": [
        "import pandas as pd\n",
        "import numpy as np\n",
        "import matplotlib.pyplot as plt\n",
        "import seaborn as sns"
      ]
    },
    {
      "cell_type": "code",
      "source": [
        "from sklearn.datasets import load_iris"
      ],
      "metadata": {
        "id": "f7b7tiyFk0PD"
      },
      "execution_count": 7,
      "outputs": []
    },
    {
      "cell_type": "code",
      "source": [
        "iris=load_iris()\n",
        "print(iris)\n",
        "     "
      ],
      "metadata": {
        "id": "Ls_RsAc-k8sq"
      },
      "execution_count": null,
      "outputs": []
    },
    {
      "cell_type": "code",
      "source": [
        "features=iris.feature_names\n",
        "print(features)"
      ],
      "metadata": {
        "colab": {
          "base_uri": "https://localhost:8080/"
        },
        "id": "mYPwQMBkk_B0",
        "outputId": "4d6f75b4-ed95-4f1c-f74d-f9d0c5a1b3fb"
      },
      "execution_count": 9,
      "outputs": [
        {
          "output_type": "stream",
          "name": "stdout",
          "text": [
            "['sepal length (cm)', 'sepal width (cm)', 'petal length (cm)', 'petal width (cm)']\n"
          ]
        }
      ]
    },
    {
      "cell_type": "code",
      "source": [
        "X=iris.data\n",
        "X.shape"
      ],
      "metadata": {
        "colab": {
          "base_uri": "https://localhost:8080/"
        },
        "id": "Eh02RG0DlCmU",
        "outputId": "b1181825-eeca-4294-dea6-3caa3de8f59f"
      },
      "execution_count": 10,
      "outputs": [
        {
          "output_type": "execute_result",
          "data": {
            "text/plain": [
              "(150, 4)"
            ]
          },
          "metadata": {},
          "execution_count": 10
        }
      ]
    },
    {
      "cell_type": "code",
      "source": [
        "y=iris.target\n",
        "print(y.shape)"
      ],
      "metadata": {
        "colab": {
          "base_uri": "https://localhost:8080/"
        },
        "id": "FP041yEXlFD1",
        "outputId": "2059b7ba-ff48-42e0-9002-37ebc1a26abb"
      },
      "execution_count": 11,
      "outputs": [
        {
          "output_type": "stream",
          "name": "stdout",
          "text": [
            "(150,)\n"
          ]
        }
      ]
    },
    {
      "cell_type": "code",
      "source": [
        "sns.boxplot(x=iris.target , y=iris.data[:,1])"
      ],
      "metadata": {
        "colab": {
          "base_uri": "https://localhost:8080/",
          "height": 286
        },
        "id": "Tg7aqGoMlHvd",
        "outputId": "1064dda0-1445-4574-f288-029a148144ca"
      },
      "execution_count": 12,
      "outputs": [
        {
          "output_type": "execute_result",
          "data": {
            "text/plain": [
              "<matplotlib.axes._subplots.AxesSubplot at 0x7f5440ed13d0>"
            ]
          },
          "metadata": {},
          "execution_count": 12
        },
        {
          "output_type": "display_data",
          "data": {
            "text/plain": [
              "<Figure size 432x288 with 1 Axes>"
            ],
            "image/png": "[encoded data removed]"
          },
          "metadata": {
            "needs_background": "light"
          }
        }
      ]
    },
    {
      "cell_type": "code",
      "source": [
        "from sklearn.linear_model import LinearRegression\n",
        "from sklearn.model_selection import train_test_split"
      ],
      "metadata": {
        "id": "oNs7IeL9lJ9w"
      },
      "execution_count": 13,
      "outputs": []
    },
    {
      "cell_type": "code",
      "source": [
        "X_train,X_test,y_train,y_test=train_test_split(X,y,test_size=0.25)"
      ],
      "metadata": {
        "id": "hJPjmtcLlMqo"
      },
      "execution_count": 14,
      "outputs": []
    },
    {
      "cell_type": "code",
      "source": [
        "model=LinearRegression()"
      ],
      "metadata": {
        "id": "_HHFP0wRlOra"
      },
      "execution_count": 15,
      "outputs": []
    },
    {
      "cell_type": "code",
      "source": [
        "\n",
        "lin_model=model.fit(X_train,y_train)"
      ],
      "metadata": {
        "id": "_Vv9vVZklQ21"
      },
      "execution_count": 16,
      "outputs": []
    },
    {
      "cell_type": "code",
      "source": [
        "print(lin_model.score(X_test,y_test))"
      ],
      "metadata": {
        "colab": {
          "base_uri": "https://localhost:8080/"
        },
        "id": "kaiaQT8alSrw",
        "outputId": "5faa266e-f6f3-4dda-a5d7-804fc6ebe70d"
      },
      "execution_count": 17,
      "outputs": [
        {
          "output_type": "stream",
          "name": "stdout",
          "text": [
            "0.9301353978346002\n"
          ]
        }
      ]
    },
    {
      "cell_type": "code",
      "source": [
        "predictions=lin_model.predict(X_test)\n",
        "print(predictions)"
      ],
      "metadata": {
        "colab": {
          "base_uri": "https://localhost:8080/"
        },
        "id": "1a7k_ryUlUsB",
        "outputId": "b7963664-6fa5-446c-b281-96df5b561c6e"
      },
      "execution_count": 18,
      "outputs": [
        {
          "output_type": "stream",
          "name": "stdout",
          "text": [
            "[-0.00302297  0.88094174 -0.04397816  1.70647709  1.5807169   1.14306479\n",
            " -0.10088299  1.40339885  1.67733998  0.91230997 -0.01437764  1.06709644\n",
            "  0.93822211  1.48935188  0.09865848  1.37781776 -0.20932415 -0.08906456\n",
            "  1.73822078 -0.1007281   0.05580321  1.16802689  1.88152021 -0.09224572\n",
            "  1.8475898  -0.02893476  1.8019955   1.99669925 -0.16817027  1.57574675\n",
            "  0.18003912  1.18463862  2.01965114 -0.02765367  1.26060732  1.68478471\n",
            "  2.16484996  1.99117614]\n"
          ]
        }
      ]
    },
    {
      "cell_type": "code",
      "source": [
        "!pip install gradio"
      ],
      "metadata": {
        "id": "bz1zctlqlWiH"
      },
      "execution_count": null,
      "outputs": []
    },
    {
      "cell_type": "code",
      "source": [
        "def classify(num):\n",
        "    if num<0.5:\n",
        "        return 'Setosa'\n",
        "    elif num <1.5:\n",
        "        return 'Versicolor'\n",
        "    else:\n",
        "        return 'Virginica'"
      ],
      "metadata": {
        "id": "7pbwWzmQlYus"
      },
      "execution_count": 20,
      "outputs": []
    },
    {
      "cell_type": "code",
      "source": [
        "import gradio as gr\n",
        "import numpy as np\n",
        "def predict_flower(sl,sw,pl,pw):\n",
        "    input_array=np.array([[sl,sw,pl,pw]])\n",
        "    pred=lin_model.predict(input_array)\n",
        "    output=classify(pred[0])\n",
        "    if output=='Setosa':\n",
        "      return [(0,output)]\n",
        "    elif output=='Versicolor':\n",
        "      return [(1,output)]\n",
        "    else:\n",
        "      return [(2,output)]"
      ],
      "metadata": {
        "id": "JsT1xY8nleFs"
      },
      "execution_count": 21,
      "outputs": []
    },
    {
      "cell_type": "code",
      "source": [
        "sl = gr.inputs.Slider(minimum=0, maximum=7, default=2, label=\"Sepal Length\")\n",
        "sw = gr.inputs.Slider(minimum=0, maximum=7, default=2, label=\"Sepal Width\")\n",
        "pl = gr.inputs.Slider(minimum=0, maximum=7, default=2, label=\"Petal Length\")\n",
        "pw = gr.inputs.Slider(minimum=0, maximum=7, default=2, label=\"Petal Width\")\n",
        "op=gr.outputs.HighlightedText(color_map={ \"Setosa\": \"lightgreen\",\n",
        "        \"Versicolor\": \"pink\",\n",
        "        \"Virginica\": \"yellow\",})\n",
        "gr.Interface(predict_flower, inputs=[sl,sw,pl,pw], outputs=op,live=True).launch('share=True',debug=True)"
      ],
      "metadata": {
        "colab": {
          "base_uri": "https://localhost:8080/",
          "height": 893
        },
        "id": "080qKfZzlgip",
        "outputId": "461c1592-6bad-4c52-8ba5-5c230c76e498"
      },
      "execution_count": null,
      "outputs": [
        {
          "output_type": "stream",
          "name": "stderr",
          "text": [
            "/usr/local/lib/python3.8/dist-packages/gradio/inputs.py:89: UserWarning: Usage of gradio.inputs is deprecated, and will not be supported in the future, please import your component from gradio.components\n",
            "  warnings.warn(\n",
            "/usr/local/lib/python3.8/dist-packages/gradio/deprecation.py:40: UserWarning: `optional` parameter is deprecated, and it has no effect\n",
            "  warnings.warn(value)\n",
            "/usr/local/lib/python3.8/dist-packages/gradio/outputs.py:240: UserWarning: Usage of gradio.outputs is deprecated, and will not be supported in the future, please import your components from gradio.components\n",
            "  warnings.warn(\n",
            "/usr/local/lib/python3.8/dist-packages/gradio/components.py:3370: UserWarning: The 'color_map' parameter has been moved from the constructor to `HighlightedText.style()` \n",
            "  warnings.warn(\n",
            "/usr/local/lib/python3.8/dist-packages/gradio/blocks.py:217: UserWarning: api_name predict already exists, using predict_1\n",
            "  warnings.warn(\n",
            "/usr/local/lib/python3.8/dist-packages/gradio/blocks.py:217: UserWarning: api_name predict already exists, using predict_2\n",
            "  warnings.warn(\n",
            "/usr/local/lib/python3.8/dist-packages/gradio/blocks.py:217: UserWarning: api_name predict already exists, using predict_3\n",
            "  warnings.warn(\n"
          ]
        },
        {
          "output_type": "stream",
          "name": "stdout",
          "text": [
            "Colab notebook detected. This cell will run indefinitely so that you can see errors and logs. To turn off, set debug=False in launch().\n",
            "Note: opening Chrome Inspector may crash demo inside Colab notebooks.\n",
            "\n",
            "To create a public link, set `share=True` in `launch()`.\n"
          ]
        },
        {
          "output_type": "display_data",
          "data": {
            "text/plain": [
              "<IPython.core.display.Javascript object>"
            ],
            "application/javascript": [
              "(async (port, path, width, height, cache, element) => {\n",
              "                        if (!google.colab.kernel.accessAllowed && !cache) {\n",
              "                            return;\n",
              "                        }\n",
              "                        element.appendChild(document.createTextNode(''));\n",
              "                        const url = await google.colab.kernel.proxyPort(port, {cache});\n",
              "\n",
              "                        const external_link = document.createElement('div');\n",
              "                        external_link.innerHTML = `\n",
              "                            <div style=\"font-family: monospace; margin-bottom: 0.5rem\">\n",
              "                                Running on <a href=${new URL(path, url).toString()} target=\"_blank\">\n",
              "                                    https://localhost:${port}${path}\n",
              "                                </a>\n",
              "                            </div>\n",
              "                        `;\n",
              "                        element.appendChild(external_link);\n",
              "\n",
              "                        const iframe = document.createElement('iframe');\n",
              "                        iframe.src = new URL(path, url).toString();\n",
              "                        iframe.height = height;\n",
              "                        iframe.allow = \"autoplay; camera; microphone; clipboard-read; clipboard-write;\"\n",
              "                        iframe.width = width;\n",
              "                        iframe.style.border = 0;\n",
              "                        element.appendChild(iframe);\n",
              "                    })(7860, \"/\", \"100%\", 500, false, window.element)"
            ]
          },
          "metadata": {}
        }
      ]
    },
    {
      "cell_type": "code",
      "source": [],
      "metadata": {
        "id": "roBuVQsBlq90"
      },
      "execution_count": null,
      "outputs": []
    }
  ]
}